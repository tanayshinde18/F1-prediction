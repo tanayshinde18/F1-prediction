{
 "cells": [
  {
   "cell_type": "code",
   "execution_count": 2,
   "id": "067159ae",
   "metadata": {
    "vscode": {
     "languageId": "plaintext"
    }
   },
   "outputs": [],
   "source": [
    "import fastf1\n",
    "import pandas as pd\n",
    "import numpy as np\n",
    "from sklearn.model_selection import train_test_split\n",
    "from sklearn.ensemble import GradientBoostingRegressor\n",
    "from sklearn.metrics import mean_absolute_error\n",
    "import requests\n",
    "import matplotlib.pyplot as plt\n",
    "from sklearn.impute import SimpleImputer"
   ]
  },
  {
   "cell_type": "code",
   "execution_count": 3,
   "id": "36185a1c-7925-4f40-9a1c-815c47830de6",
   "metadata": {},
   "outputs": [],
   "source": [
    "import os\n",
    "cache_dir=\"F1_cache_CanadianGP\"\n",
    "os.makedirs(cache_dir,exist_ok=True)"
   ]
  },
  {
   "cell_type": "code",
   "execution_count": 4,
   "id": "d38f3129-bde2-42b4-b22f-f868168c82ea",
   "metadata": {},
   "outputs": [],
   "source": [
    "fastf1.Cache.enable_cache(\"F1_cache_CanadianGP\")"
   ]
  },
  {
   "cell_type": "code",
   "execution_count": 5,
   "id": "9d09b3c7-6bf7-45e8-a97d-43e4346f8fb2",
   "metadata": {},
   "outputs": [
    {
     "name": "stderr",
     "output_type": "stream",
     "text": [
      "core           INFO \tLoading data for Canadian Grand Prix - Race [v3.5.3]\n",
      "req            INFO \tUsing cached data for session_info\n",
      "req            INFO \tUsing cached data for driver_info\n",
      "req            INFO \tUsing cached data for session_status_data\n",
      "req            INFO \tUsing cached data for lap_count\n",
      "req            INFO \tUsing cached data for track_status_data\n",
      "req            INFO \tUsing cached data for _extended_timing_data\n",
      "req            INFO \tUsing cached data for timing_app_data\n",
      "core           INFO \tProcessing timing data...\n",
      "req            INFO \tUsing cached data for car_data\n",
      "req            INFO \tUsing cached data for position_data\n",
      "req            INFO \tUsing cached data for weather_data\n",
      "req            INFO \tUsing cached data for race_control_messages\n",
      "core           INFO \tFinished loading data for 20 drivers: ['1', '4', '63', '44', '81', '14', '18', '3', '10', '31', '27', '20', '77', '22', '24', '55', '23', '11', '16', '2']\n"
     ]
    }
   ],
   "source": [
    "session_past=fastf1.get_session(2024, 9,\"R\" )\n",
    "session_past.load()"
   ]
  },
  {
   "cell_type": "code",
   "execution_count": 6,
   "id": "22c16cc1-b44e-4e0d-935d-12d2d5b68970",
   "metadata": {},
   "outputs": [],
   "source": [
    "laps_past=session_past.laps[[\"Driver\", \"LapTime\",\"Sector1Time\", \"Sector2Time\", \"Sector3Time\"]].copy()\n",
    "laps_past.dropna(inplace=True)"
   ]
  },
  {
   "cell_type": "code",
   "execution_count": 7,
   "id": "cbb99ba0-0c58-4ae2-af5d-237e1970032b",
   "metadata": {},
   "outputs": [],
   "source": [
    "for col in [ \"LapTime\",\"Sector1Time\", \"Sector2Time\", \"Sector3Time\"]:\n",
    "    laps_past[f\"{col} (s)\"] = laps_past[col].dt.total_seconds()"
   ]
  },
  {
   "cell_type": "code",
   "execution_count": 8,
   "id": "5a295650-fe41-46f3-90eb-853b278a8707",
   "metadata": {},
   "outputs": [],
   "source": [
    "sector_times_past = laps_past.groupby(\"Driver\").agg({\n",
    "    \"Sector1Time (s)\": \"mean\",\n",
    "    \"Sector2Time (s)\": \"mean\",\n",
    "    \"Sector3Time (s)\": \"mean\"\n",
    "}).reset_index()\n",
    "\n",
    "\n",
    "sector_times_past[\"TotalSectorTime (s)\"] = (\n",
    "    sector_times_past[\"Sector1Time (s)\"] +\n",
    "    sector_times_past[\"Sector2Time (s)\"] +\n",
    "    sector_times_past[\"Sector3Time (s)\"]\n",
    ")"
   ]
  },
  {
   "cell_type": "code",
   "execution_count": 9,
   "id": "e150c211-7678-43b1-9ba2-e356e6427614",
   "metadata": {},
   "outputs": [],
   "source": [
    "clean_air_race_pace = {\n",
    "    \"VER\": 93.191067, \"HAM\": 94.020622, \"LEC\": 93.418667, \"NOR\": 93.428600, \"ALO\": 94.784333,\n",
    "    \"PIA\": 93.232111, \"RUS\": 93.833378, \"SAI\": 94.497444, \"STR\": 95.318250, \"HUL\": 95.345455,\n",
    "    \"OCO\": 95.682128\n",
    "}"
   ]
  },
  {
   "cell_type": "code",
   "execution_count": 10,
   "id": "c0f0dff4-c128-4194-abd3-4cfa31a167e2",
   "metadata": {},
   "outputs": [],
   "source": [
    "qualifying_pastGP=pd.DataFrame({\n",
    "    \"Driver\": [\"VER\", \"NOR\", \"PIA\", \"RUS\", \"SAI\", \"ALB\", \"LEC\", \"OCO\",\n",
    "               \"HAM\", \"STR\", \"GAS\", \"ALO\", \"HUL\"],\n",
    "    \"QualifyingTime (s)\": [  \n",
    "        70.669,  # VER (1:10.669)\n",
    "        69.954,  # NOR (1:09.954)\n",
    "        70.129,  # PIA (1:10.129)\n",
    "        None,    # RUS (DNF)\n",
    "        71.362,  # SAI (1:11.362)\n",
    "        71.213,  # ALB (1:11.213)\n",
    "        70.063,  # LEC (1:10.063)\n",
    "        70.942,  # OCO (1:10.942)\n",
    "        70.382,  # HAM (1:10.382)\n",
    "        72.563,  # STR (1:12.563)\n",
    "        71.994,  # GAS (1:11.994)\n",
    "        70.924,  # ALO (1:10.924)\n",
    "        71.596   # HUL (1:11.596)\n",
    "    ]\n",
    "})\n",
    "qualifying_pastGP[\"CleanAirRacePace (s)\"]=qualifying_pastGP[\"Driver\"].map(clean_air_race_pace)\n",
    "    "
   ]
  },
  {
   "cell_type": "code",
   "execution_count": 11,
   "id": "bfc23a22-d15f-4695-ba54-df58113fa1c7",
   "metadata": {},
   "outputs": [],
   "source": [
    "API_KEY = \"8c1fe9dffefffb8bdda4d71092db66c5\"\n",
    "weather_url = f\"http://api.openweathermap.org/data/2.5/forecast?lat=43.7384&lon=7.4246&appid={API_KEY}&units=metric\"\n",
    "response = requests.get(weather_url)\n",
    "weather_data = response.json()\n",
    "#print(weather_data)\n",
    "forecast_time = \"2025-06-15 13:00:00\"  # 15:00 CEST local time\n",
    "forecast_data = next((f for f in weather_data['list'] if f['dt_txt'] == forecast_time), None)\n",
    "\n",
    "rain_probability = forecast_data[\"pop\"] if forecast_data else 0\n",
    "temperature = forecast_data[\"main\"][\"temp\"] if forecast_data else 20\n",
    "if rain_probability >= 0.75:\n",
    "   qualifying_pastGP[\"QualifyingTime\"] = qualifying_pastGP[\"QualifyingTime (s)\"] * qualifying_pastGP[\"WetPerformanceFactor\"]\n",
    "else:\n",
    "   qualifying_pastGP[\"QualifyingTime\"] = qualifying_pastGP[\"QualifyingTime (s)\"]"
   ]
  },
  {
   "cell_type": "code",
   "execution_count": 12,
   "id": "ab0c499d-96e1-40ce-b9ee-48c080711db2",
   "metadata": {},
   "outputs": [],
   "source": [
    "team_points = {\n",
    "    \"McLaren\": 362,\n",
    "    \"Ferrari\": 165,\n",
    "    \"Mercedes\": 156,\n",
    "    \"Red Bull\": 141,\n",
    "    \"Williams\": 59,\n",
    "    \"Racing Bulls\": 30,\n",
    "    \"Haas\": 27,\n",
    "    \"Kick Sauber\": 16,\n",
    "    \"Aston Martin\": 15,\n",
    "    \"Alpine\": 10\n",
    "}\n",
    "max_points = max(team_points.values())\n",
    "team_performance_score = {team: points / max_points for team, points in team_points.items()}\n",
    "\n",
    "driver_to_team = {\n",
    "    \n",
    "    \"VER\": \"Red Bull\", \"NOR\": \"McLaren\", \"PIA\": \"McLaren\", \"LEC\": \"Ferrari\", \"RUS\": \"Mercedes\",\n",
    "    \"HAM\": \"Mercedes\", \"GAS\": \"Alpine\", \"ALO\": \"Aston Martin\", \"TSU\": \"Racing Bulls\",\n",
    "    \"SAI\": \"Ferrari\", \"HUL\": \"Kick Sauber\", \"OCO\": \"Alpine\", \"STR\": \"Aston Martin\"\n",
    "}"
   ]
  },
  {
   "cell_type": "code",
   "execution_count": 13,
   "id": "14738391-3f11-4871-858c-e98610b3b894",
   "metadata": {},
   "outputs": [],
   "source": [
    " qualifying_pastGP[\"Team\"] =  qualifying_pastGP[\"Driver\"].map(driver_to_team)\n",
    " qualifying_pastGP[\"TeamPerformanceScore\"] =  qualifying_pastGP[\"Team\"].map(team_performance_score)"
   ]
  },
  {
   "cell_type": "code",
   "execution_count": 14,
   "id": "90731be3-85c7-4a44-81a3-1eb98046777f",
   "metadata": {},
   "outputs": [],
   "source": [
    "\n",
    "average_position_change = {\n",
    "    \"VER\": -1.0,  \n",
    "    \"NOR\": 1.0,\n",
    "    \"PIA\": 0.2,\n",
    "    \"RUS\": 0.5,\n",
    "    \"SAI\": -0.3,\n",
    "    \"ALB\": 0.8,\n",
    "    \"LEC\": -1.5, \n",
    "    \"OCO\": -0.2,\n",
    "    \"HAM\": 0.3,\n",
    "    \"STR\": 1.1,\n",
    "    \"GAS\": -0.4,\n",
    "    \"ALO\": -0.6,\n",
    "    \"HUL\": 0.0\n",
    "}\n",
    "\n",
    "qualifying_pastGP[\"AveragePositionChange\"] = qualifying_pastGP[\"Driver\"].map(average_position_change)\n",
    "\n"
   ]
  },
  {
   "cell_type": "code",
   "execution_count": 15,
   "id": "ebc1b40a-baa8-4277-9e95-904535441d68",
   "metadata": {},
   "outputs": [],
   "source": [
    "merged_data = qualifying_pastGP.merge(sector_times_past[[\"Driver\", \"TotalSectorTime (s)\"]], on=\"Driver\", how=\"left\")\n",
    "merged_data[\"RainProbability\"] = rain_probability\n",
    "merged_data[\"Temperature\"] = temperature\n",
    "merged_data[\"QualifyingTime\"] = merged_data[\"QualifyingTime\"]\n",
    "\n",
    "\n",
    "valid_drivers = merged_data[\"Driver\"].isin(laps_past[\"Driver\"].unique())\n",
    "merged_data = merged_data[valid_drivers]\n"
   ]
  },
  {
   "cell_type": "code",
   "execution_count": 16,
   "id": "d204f537-8617-4285-aaa3-7159ad3c2d60",
   "metadata": {},
   "outputs": [],
   "source": [
    "# define features (X) and target (y)\n",
    "X = merged_data[[\n",
    "    \"QualifyingTime\", \"RainProbability\", \"Temperature\", \"TeamPerformanceScore\", \n",
    "    \"CleanAirRacePace (s)\", \"AveragePositionChange\"\n",
    "]]\n",
    "y = laps_past.groupby(\"Driver\")[\"LapTime (s)\"].mean().reindex(merged_data[\"Driver\"])\n",
    "\n",
    "# impute missing values for features\n",
    "imputer = SimpleImputer(strategy=\"median\")\n",
    "X_imputed = imputer.fit_transform(X)"
   ]
  },
  {
   "cell_type": "code",
   "execution_count": 17,
   "id": "a7347529-1866-4c82-a39a-9b90a05176c8",
   "metadata": {},
   "outputs": [
    {
     "name": "stdout",
     "output_type": "stream",
     "text": [
      "\n",
      "🏁 Predicted 2025 Canada GP Winner 🏁\n",
      "\n",
      "   Driver  PredictedRaceTime (s)\n",
      "8     HAM              90.473652\n",
      "0     VER              90.477304\n",
      "3     RUS              90.558275\n",
      "4     SAI              90.567727\n",
      "2     PIA              90.574899\n",
      "11    ALO              90.668812\n",
      "10    GAS              90.685319\n",
      "7     OCO              90.757563\n",
      "12    HUL              90.762551\n",
      "1     NOR              91.597661\n",
      "5     ALB              91.632412\n",
      "9     STR              91.632450\n",
      "6     LEC              95.612718\n",
      "Model Error (MAE): 0.77 seconds\n"
     ]
    }
   ],
   "source": [
    "X_train, X_test, y_train, y_test = train_test_split(X_imputed, y, test_size=0.3, random_state=37)\n",
    "# train gradient boosting model\n",
    "model = GradientBoostingRegressor(n_estimators=100, learning_rate=0.7, max_depth=3, random_state=37)\n",
    "model.fit(X_train, y_train)\n",
    "merged_data[\"PredictedRaceTime (s)\"] = model.predict(X_imputed)\n",
    "\n",
    "# sort the results to find the predicted winner\n",
    "final_results = merged_data.sort_values(\"PredictedRaceTime (s)\")\n",
    "print(\"\\n🏁 Predicted 2025 Canada GP Winner 🏁\\n\")\n",
    "print(final_results[[\"Driver\", \"PredictedRaceTime (s)\"]])\n",
    "y_pred = model.predict(X_test)\n",
    "print(f\"Model Error (MAE): {mean_absolute_error(y_test, y_pred):.2f} seconds\")\n"
   ]
  },
  {
   "cell_type": "code",
   "execution_count": 18,
   "id": "0474adb5-296c-43ff-853e-cf4cd5aa0a75",
   "metadata": {},
   "outputs": [
    {
     "data": {
      "image/png": "[encoded data removed]",
      "text/plain": [
       "<Figure size 1200x800 with 1 Axes>"
      ]
     },
     "metadata": {},
     "output_type": "display_data"
    }
   ],
   "source": [
    "# plot effect of clean air race pace\n",
    "plt.figure(figsize=(12, 8))\n",
    "plt.scatter(final_results[\"CleanAirRacePace (s)\"], final_results[\"PredictedRaceTime (s)\"])\n",
    "for i, driver in enumerate(final_results[\"Driver\"]):\n",
    "    plt.annotate(driver, (final_results[\"CleanAirRacePace (s)\"].iloc[i], final_results[\"PredictedRaceTime (s)\"].iloc[i]),\n",
    "                 xytext=(5, 5), textcoords='offset points')\n",
    "plt.xlabel(\"clean air race pace (s)\")\n",
    "plt.ylabel(\"predicted race time (s)\")\n",
    "plt.title(\"effect of clean air race pace on predicted race results\")\n",
    "plt.tight_layout()\n",
    "plt.show()"
   ]
  },
  {
   "cell_type": "code",
   "execution_count": 19,
   "id": "1a4bbc1d-9c44-42f9-99c4-f4f411c03469",
   "metadata": {},
   "outputs": [
    {
     "name": "stdout",
     "output_type": "stream",
     "text": [
      "\n",
      "🏆 Predicted in the Top 3 🏆\n",
      "🥇 P1: HAM\n",
      "🥈 P2: VER\n",
      "🥉 P3: RUS\n"
     ]
    }
   ],
   "source": [
    "final_results = merged_data.sort_values(\"PredictedRaceTime (s)\").reset_index(drop=True)\n",
    "podium = final_results.loc[:2, [\"Driver\", \"PredictedRaceTime (s)\"]]\n",
    "\n",
    "print(\"\\n🏆 Predicted in the Top 3 🏆\")\n",
    "print(f\"🥇 P1: {podium.iloc[0]['Driver']}\")\n",
    "print(f\"🥈 P2: {podium.iloc[1]['Driver']}\")\n",
    "print(f\"🥉 P3: {podium.iloc[2]['Driver']}\")"
   ]
  },
  {
   "cell_type": "code",
   "execution_count": null,
   "id": "4acd1a84-9504-42f3-828a-6d1f7e1c931b",
   "metadata": {},
   "outputs": [],
   "source": []
  }
 ],
 "metadata": {
  "kernelspec": {
   "display_name": "fastf1-env",
   "language": "python",
   "name": "newenvf1"
  },
  "language_info": {
   "codemirror_mode": {
    "name": "ipython",
    "version": 3
   },
   "file_extension": ".py",
   "mimetype": "text/x-python",
   "name": "python",
   "nbconvert_exporter": "python",
   "pygments_lexer": "ipython3",
   "version": "3.10.18"
  }
 },
 "nbformat": 4,
 "nbformat_minor": 5
}
